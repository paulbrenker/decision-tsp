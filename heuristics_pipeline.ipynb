{
 "cells": [
  {
   "cell_type": "markdown",
   "id": "8fc649f0-35fe-4d27-a21d-e4e1d24630ea",
   "metadata": {},
   "source": [
    "# Calculating all heuristics for a given tsp dataset"
   ]
  },
  {
   "cell_type": "code",
   "execution_count": 1,
   "id": "f894eff4-a92f-45cb-8484-e5651961fbc1",
   "metadata": {},
   "outputs": [],
   "source": [
    "import heuristics\n",
    "import fileops as fo\n",
    "import networkx as nx\n",
    "import numpy as np\n",
    "from networkx.algorithms.approximation import christofides, greedy_tsp\n",
    "from IPython.display import clear_output\n",
    "import threading\n",
    "import time\n"
   ]
  },
  {
   "cell_type": "code",
   "execution_count": 2,
   "id": "1a3e3ce7-6259-4221-ae9c-6845ecc0e6d9",
   "metadata": {},
   "outputs": [],
   "source": [
    "def execute_mst(heuristic_name, function, instance, data, path):\n",
    "    print(f'    COMPUTING:   {heuristic_name}')\n",
    "    duration = time.time()\n",
    "    mst, tree = function(instance)\n",
    "    mst = int(mst)\n",
    "    duration = time.time() - duration\n",
    "    print(f'    DONE:        {heuristic_name} : {mst}   ---   TIME: {duration}')\n",
    "    data.append(mst)\n",
    "    fo.save_as_json(data, f'tspset2_heuristics/{path}.json')\n",
    "    return tree\n",
    "\n",
    "\n",
    "def execute_tree_heuristic(heuristic_name, function, instance, tree, data, path):\n",
    "    print(f'    COMPUTING:   {heuristic_name}   ---   ')\n",
    "    duration = time.time()\n",
    "    result = -1\n",
    "    try:\n",
    "        result = function(instance, tree)\n",
    "        result = int(result)\n",
    "    except:\n",
    "        print('An error with a tree based heuristic occured')\n",
    "        result = -1\n",
    "    duration = time.time() - duration\n",
    "    print(f'    DONE:        {heuristic_name} : {result}   ---   TIME: {duration}')\n",
    "    data.append(result)\n",
    "    fo.save_as_json(data, f'tspset2_heuristics/{path}.json')\n",
    "    \n",
    "def exectue_heuristic(heuristic_name, function, instance, data, path):\n",
    "    print(f'    COMPUTING:   {heuristic_name}   ---   ')\n",
    "    duration = time.time()\n",
    "    result = function(instance)\n",
    "    result = int(result)\n",
    "    duration = time.time() - duration\n",
    "    print(f'    DONE:        {heuristic_name} : {result}   ---   TIME: {duration}')\n",
    "    data.append(result)\n",
    "    fo.save_as_json(data, f'tspset2_heuristics/{path}.json')\n",
    "\n",
    "def update_heu(input: dict):\n",
    "    for key in input.keys():\n",
    "        input[key] = fo.load_from_json(f'tspset2_heuristics/{key}.json')\n",
    "    return input\n",
    "        "
   ]
  },
  {
   "cell_type": "code",
   "execution_count": null,
   "id": "9e7e799b-b9d1-41dd-80c4-a9d79ce8fb85",
   "metadata": {},
   "outputs": [
    {
     "name": "stdout",
     "output_type": "stream",
     "text": [
      "PROCESSING INSTANCE 17 OF 2000 PROGRESS: 0.8500000000000001% \n",
      "INSTANCE SIZE: randomly generated clustered problem with 495 cities\n",
      "    COMPUTING:   FARTHEST INSERTION                ---   \n",
      "    COMPUTING:   NEAREST INSERTION                 ---   \n",
      "    COMPUTING:   RANDOM INSERTION                  ---   \n",
      "    COMPUTING:   CHRISTOFIDES                    : ...   \n",
      "    DONE:        CHRISTOFIDES                    : 71236   ---   TIME: 33.080448627471924\n",
      "    DONE:        RANDOM INSERTION                : 68213   ---   TIME: 118.28363513946533\n"
     ]
    }
   ],
   "source": [
    "instances = 2000\n",
    "heu = {\n",
    "    #'mst':[],\n",
    "    'christo': [],\n",
    "    #'onetree': [],\n",
    "    'fi': [],\n",
    "    #'greedy': [],\n",
    "    #'mstheu': [],\n",
    "    'ni': [],\n",
    "    #'nn': [],\n",
    "    #'opt': [],\n",
    "    'ri': []\n",
    "}\n",
    "for i in range(instances):\n",
    "    instance = fo.load_from_json(f'tspset2/ctsp_{i}_sol.json')\n",
    "    dimension = instance['comment']\n",
    "    print(f'PROCESSING INSTANCE {i+1} OF {instances} PROGRESS: {((i+1)/instances)*100}% \\nINSTANCE SIZE: {dimension}')\n",
    "    \n",
    "    # first we need the mst  \n",
    "    #tree           =                                            execute_mst('MINIMUM SPANNING TREE          ', heuristics.mst, instance, heu['mst'], 'mst')\n",
    "    tree = None\n",
    "    # in multithreading we comute mst dependend heuristics\n",
    "    christo_thread = threading.Thread( target=execute_tree_heuristic, args=('CHRISTOFIDES                   ', heuristics.christo, instance, tree, heu['christo'], 'christo') )\n",
    "    #onetree_thread = threading.Thread( target=execute_tree_heuristic, args=('1-TREE                         ', heuristics.onetree, instance, tree, heu['onetree'], 'onetree') )\n",
    "    #mstheu_thread  = threading.Thread( target=execute_tree_heuristic, args=('MINIMUM SPANNING TREE HEURISTIC', heuristics.mstheu, instance, tree, heu['mstheu'], 'mstheu') )\n",
    "    \n",
    "    # and all other heuristics\n",
    "    fi_thread      = threading.Thread( target=exectue_heuristic,      args=('FARTHEST INSERTION             ', heuristics.fi, instance,  heu['fi'], 'fi') )\n",
    "    #greedy_thread  = threading.Thread( target=exectue_heuristic,      args=('GREEDY HEURISTIC               ', heuristics.greedy, instance,  heu['greedy'], 'greedy') )\n",
    "    ni_thread      = threading.Thread( target=exectue_heuristic,      args=('NEAREST INSERTION              ', heuristics.ni, instance,  heu['ni'], 'ni') )\n",
    "    #nn_thread      = threading.Thread( target=exectue_heuristic,      args=('NEAREST NEIGHBOR               ', heuristics.nn, instance,  heu['nn'], 'nn') )\n",
    "    #opt_thread     = threading.Thread( target=exectue_heuristic,      args=('OPTIMAL TOUR                   ', heuristics.opt, instance,  heu['opt'], 'opt') )\n",
    "    ri_thread      = threading.Thread( target=exectue_heuristic,      args=('RANDOM INSERTION               ', heuristics.ri, instance,  heu['ri'], 'ri') )\n",
    "\n",
    "    \n",
    "    threads = [\n",
    "        fi_thread, \n",
    "        ni_thread, \n",
    "        ri_thread,\n",
    "        christo_thread \n",
    "        #onetree_thread, \n",
    "        #mstheu_thread, \n",
    "        #greedy_thread, \n",
    "        #nn_thread, \n",
    "        #opt_thread\n",
    "    ]\n",
    "    \n",
    "    for thread in threads:\n",
    "        thread.start()\n",
    "        \n",
    "    for thread in threads:\n",
    "        thread.join()\n",
    "        \n",
    "    heu = update_heu(heu)\n",
    "    if i%2 != 0:\n",
    "        clear_output()\n",
    "   "
   ]
  },
  {
   "cell_type": "code",
   "execution_count": 7,
   "id": "752d6fb5-825c-4b61-bcc1-f2a2ff1f2368",
   "metadata": {},
   "outputs": [],
   "source": [
    "instance = fo.load_from_json('tspset2/ctsp_0_sol.json')"
   ]
  }
 ],
 "metadata": {
  "kernelspec": {
   "display_name": "Python 3 (ipykernel)",
   "language": "python",
   "name": "python3"
  },
  "language_info": {
   "codemirror_mode": {
    "name": "ipython",
    "version": 3
   },
   "file_extension": ".py",
   "mimetype": "text/x-python",
   "name": "python",
   "nbconvert_exporter": "python",
   "pygments_lexer": "ipython3",
   "version": "3.10.12"
  }
 },
 "nbformat": 4,
 "nbformat_minor": 5
}

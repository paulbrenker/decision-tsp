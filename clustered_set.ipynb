{
 "cells": [
  {
   "cell_type": "markdown",
   "id": "02cc598f-d523-4fc6-86e5-abcb774b461e",
   "metadata": {},
   "source": [
    "# Creating a clustered tsp dataset"
   ]
  },
  {
   "cell_type": "code",
   "execution_count": 2,
   "id": "830c59c9-c176-4619-95f2-3bb560dcca56",
   "metadata": {},
   "outputs": [],
   "source": [
    "\"\"\"Import Statements\"\"\"\n",
    "from concorde.tsp import TSPSolver\n",
    "import numpy as np\n",
    "from sklearn import datasets\n",
    "from IPython.display import clear_output\n",
    "\n",
    "from src import fileops as fo"
   ]
  },
  {
   "cell_type": "code",
   "execution_count": 4,
   "id": "6057a23e-c255-4c04-99ce-5b66b873c1e9",
   "metadata": {},
   "outputs": [],
   "source": [
    "def get_random_cluster():\n",
    "    \"\"\"\n",
    "        Create one random clustered instance with limits (0, 10000)\n",
    "        |V| = 300 - 600\n",
    "        |Centers| = 3-6\n",
    "    \"\"\"\n",
    "    # unbalanced tuple unpacking is intended, we don't need Number of Clusters\n",
    "    # pylint: disable=W0632\n",
    "    blobs, _ = datasets.make_blobs(\n",
    "        n_samples=np.random.randint(low=300,high=600),\n",
    "        center_box=(1500,8500),\n",
    "        cluster_std=400,\n",
    "        centers = np.random.randint(low=3, high=7))\n",
    "\n",
    "    blobs = blobs.astype(int)\n",
    "    for point in blobs:\n",
    "        if point[0] < 0:\n",
    "            point[0] = 0\n",
    "        if point[0] > 10000:\n",
    "            point[0] = 10000\n",
    "        if point[1] < 0:\n",
    "            point[1] = 0\n",
    "        if point[1]> 10000:\n",
    "            point[1] = 10000\n",
    "    return blobs"
   ]
  },
  {
   "cell_type": "code",
   "execution_count": 5,
   "id": "3730a6d7-61d7-4a9e-9f43-9e1c82d74b4a",
   "metadata": {},
   "outputs": [],
   "source": [
    "def solve_tsp(coordinates):\n",
    "    \"\"\"\n",
    "        Call the Concorde Solver for given coordinates data\n",
    "    \"\"\"\n",
    "    solver = TSPSolver.from_data(\n",
    "        coordinates.T[0],\n",
    "        coordinates.T[1],\n",
    "        norm=\"EUC_2D\"\n",
    "    )\n",
    "    tour_data = solver.solve(time_bound = 60.0,verbose = False, random_seed = 42)\n",
    "    return tour_data.tour, tour_data.optimal_value"
   ]
  },
  {
   "cell_type": "markdown",
   "id": "033db90a-4bed-4f6c-a10d-89b103a447f1",
   "metadata": {},
   "source": [
    "## Create the dataset"
   ]
  },
  {
   "cell_type": "code",
   "execution_count": 3,
   "id": "2da6888f-7a1d-4feb-9b6c-662830b00f6f",
   "metadata": {},
   "outputs": [],
   "source": [
    "FOLDER_BASE_PATH = 'tspsetX/ctsp_'\n",
    "INSTANCES = 2000"
   ]
  },
  {
   "cell_type": "code",
   "execution_count": null,
   "id": "cf7a4e7b-23f1-4a8a-bc31-dc8bc0ff7606",
   "metadata": {},
   "outputs": [],
   "source": [
    "for i in range(INSTANCES):\n",
    "    print(f'COMPUTING INSTANCE {i} OF {INSTANCES}')\n",
    "    instance = get_random_cluster()\n",
    "    tour, opt = solve_tsp(instance)\n",
    "    result = {\n",
    "        \"comment\": f'randomly generated clustered problem with {len(instance)} cities',\n",
    "        \"dimension\": len(instance),\n",
    "        \"display_data_type\": \"COORD_DISPLAY\",\n",
    "        \"edge_weight_type\": \"EUC_2D\",\n",
    "        \"name\": i,\n",
    "        \"node_coordinates\": instance.tolist(),\n",
    "        \"tour\": tour.tolist(),\n",
    "        \"tourlength\": int(opt),\n",
    "        \"type\": \"tsp\"\n",
    "    }\n",
    "    fo.save_as_json(result, f'{FOLDER_BASE_PATH}{i}_sol.json')\n",
    "    clear_output()"
   ]
  }
 ],
 "metadata": {
  "kernelspec": {
   "display_name": "Python 3 (ipykernel)",
   "language": "python",
   "name": "python3"
  },
  "language_info": {
   "codemirror_mode": {
    "name": "ipython",
    "version": 3
   },
   "file_extension": ".py",
   "mimetype": "text/x-python",
   "name": "python",
   "nbconvert_exporter": "python",
   "pygments_lexer": "ipython3",
   "version": "3.10.12"
  }
 },
 "nbformat": 4,
 "nbformat_minor": 5
}

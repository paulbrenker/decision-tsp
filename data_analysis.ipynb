{
 "cells": [
  {
   "cell_type": "markdown",
   "id": "bef329cb-ca8a-4f6f-a769-26b6ac17966f",
   "metadata": {},
   "source": [
    "# Decision TSP - Decision-making with machine learning methods"
   ]
  },
  {
   "cell_type": "code",
   "execution_count": 1,
   "id": "6458a089-d3e5-4a3b-975a-f5c7bef03854",
   "metadata": {},
   "outputs": [],
   "source": [
    "\"\"\"Import Statements\"\"\"\n",
    "# Standard imports\n",
    "import warnings\n",
    "\n",
    "# Third party imports\n",
    "import numpy as np\n",
    "import pandas as pd\n",
    "\n",
    "# Sklearn imports\n",
    "from sklearn.tree import DecisionTreeRegressor\n",
    "from sklearn.linear_model import LinearRegression\n",
    "from sklearn.svm import SVR\n",
    "from sklearn.neural_network import MLPRegressor\n",
    "from sklearn.metrics import r2_score\n",
    "\n",
    "# Module imports\n",
    "from src import fileops as fo\n",
    "import src.regressions as rg\n",
    "# Wildcard imports allowed!\n",
    "# pylint: disable=W0401\n",
    "from src.visualisations import *\n",
    "\n",
    "# Supress warnungs for notebook\n",
    "warnings.filterwarnings('ignore')"
   ]
  },
  {
   "cell_type": "code",
   "execution_count": 2,
   "id": "79217c13-4cec-4292-b266-eaee29fab200",
   "metadata": {},
   "outputs": [],
   "source": [
    "PATH_TSP1 = 'data/tspset1/'\n",
    "PATH_TSP1_HEU = 'data/tspset1_heuristics/'\n",
    "PATH_TSP1_HEU_OWN = 'data/tspset1_heuristics_own/'\n",
    "\n",
    "PATH_TSP2 = 'data/tspset2/'\n",
    "PATH_TSP2_HEU = 'data/tspset2_heuristics/'\n",
    "\n",
    "PATH_TSP3 = 'data/tspset3/'\n",
    "PATH_TSP3_HEU = 'data/tspset3_heuristics/'"
   ]
  },
  {
   "cell_type": "markdown",
   "id": "5654c619-89ce-4f5f-9060-80ce71e0d905",
   "metadata": {},
   "source": [
    "## Equi-distributed vertices in TSP data"
   ]
  },
  {
   "cell_type": "markdown",
   "id": "c3afdaf8-b331-4b50-83db-e1ee420ca796",
   "metadata": {},
   "source": [
    "### Relative deviation of heuristics and lower bounds from optimal tour\n",
    "Values < 1 imply lower bounds. Values > 1 imply tour approximation heuristic."
   ]
  },
  {
   "cell_type": "code",
   "execution_count": 3,
   "id": "0c56eed5-3198-43f1-9f19-9fa9bc07bb76",
   "metadata": {},
   "outputs": [],
   "source": [
    "# importing data\n",
    "heuristics1 = fo.get_all_heuristics(PATH_TSP1_HEU)\n",
    "instances1 = fo.get_all_instances(PATH_TSP1)"
   ]
  },
  {
   "cell_type": "code",
   "execution_count": null,
   "id": "4890e3e0-6842-436e-9dd1-fc821f2c4a3d",
   "metadata": {},
   "outputs": [],
   "source": [
    "%%capture\n",
    "perc_dev_from_opt = {}\n",
    "for key, value in heuristics1.items():\n",
    "    if key == 'opt':\n",
    "        continue\n",
    "    distance = heuristics1['opt'] - value\n",
    "    rel_distance = distance / heuristics1['opt']\n",
    "    perc_dev_from_opt[key] = 1 - rel_distance\n",
    "\n",
    "visualise_heuristics_distribution(\n",
    "    perc_dev_from_opt,\n",
    "    './images/equidestributed_heuristics_distribution.png'\n",
    ")"
   ]
  },
  {
   "cell_type": "markdown",
   "id": "bcbfc9f2-e107-4f74-bf3a-c18b50d337b9",
   "metadata": {},
   "source": [
    "### Mean deviations of heuristics from optimal tour"
   ]
  },
  {
   "cell_type": "code",
   "execution_count": 5,
   "id": "8b5ffc3f-cc66-4ba3-9608-0d3b9f235ff7",
   "metadata": {},
   "outputs": [
    {
     "data": {
      "text/html": [
       "<div>\n",
       "<style scoped>\n",
       "    .dataframe tbody tr th:only-of-type {\n",
       "        vertical-align: middle;\n",
       "    }\n",
       "\n",
       "    .dataframe tbody tr th {\n",
       "        vertical-align: top;\n",
       "    }\n",
       "\n",
       "    .dataframe thead th {\n",
       "        text-align: right;\n",
       "    }\n",
       "</style>\n",
       "<table border=\"1\" class=\"dataframe\">\n",
       "  <thead>\n",
       "    <tr style=\"text-align: right;\">\n",
       "      <th></th>\n",
       "      <th>Median</th>\n",
       "      <th>Mean</th>\n",
       "    </tr>\n",
       "  </thead>\n",
       "  <tbody>\n",
       "    <tr>\n",
       "      <th>Nearest Insertion</th>\n",
       "      <td>1.246618</td>\n",
       "      <td>1.246526</td>\n",
       "    </tr>\n",
       "    <tr>\n",
       "      <th>Random Insertion</th>\n",
       "      <td>1.121979</td>\n",
       "      <td>1.121880</td>\n",
       "    </tr>\n",
       "    <tr>\n",
       "      <th>Nearest Neighbor</th>\n",
       "      <td>1.254825</td>\n",
       "      <td>1.255869</td>\n",
       "    </tr>\n",
       "    <tr>\n",
       "      <th>Minimum Spanning Tree Heuristic</th>\n",
       "      <td>1.365463</td>\n",
       "      <td>1.364788</td>\n",
       "    </tr>\n",
       "    <tr>\n",
       "      <th>1 Tree</th>\n",
       "      <td>0.899955</td>\n",
       "      <td>0.899949</td>\n",
       "    </tr>\n",
       "    <tr>\n",
       "      <th>Minimum Spanning Tree</th>\n",
       "      <td>0.894225</td>\n",
       "      <td>0.894054</td>\n",
       "    </tr>\n",
       "    <tr>\n",
       "      <th>Farthest Insertion</th>\n",
       "      <td>1.104330</td>\n",
       "      <td>1.104064</td>\n",
       "    </tr>\n",
       "    <tr>\n",
       "      <th>Greedy Heuristic</th>\n",
       "      <td>1.178439</td>\n",
       "      <td>1.178128</td>\n",
       "    </tr>\n",
       "    <tr>\n",
       "      <th>Christofides Heuristik</th>\n",
       "      <td>1.111340</td>\n",
       "      <td>1.111159</td>\n",
       "    </tr>\n",
       "  </tbody>\n",
       "</table>\n",
       "</div>"
      ],
      "text/plain": [
       "                                   Median      Mean\n",
       "Nearest Insertion                1.246618  1.246526\n",
       "Random Insertion                 1.121979  1.121880\n",
       "Nearest Neighbor                 1.254825  1.255869\n",
       "Minimum Spanning Tree Heuristic  1.365463  1.364788\n",
       "1 Tree                           0.899955  0.899949\n",
       "Minimum Spanning Tree            0.894225  0.894054\n",
       "Farthest Insertion               1.104330  1.104064\n",
       "Greedy Heuristic                 1.178439  1.178128\n",
       "Christofides Heuristik           1.111340  1.111159"
      ]
     },
     "metadata": {},
     "output_type": "display_data"
    }
   ],
   "source": [
    "# computing deviations for heuristics\n",
    "devs = {}\n",
    "for key, value in perc_dev_from_opt.items():\n",
    "    display_name = heuristic_names[key]\n",
    "    devs[display_name] = []\n",
    "    devs[display_name].append(np.median(value))\n",
    "    devs[display_name].append(np.mean(value))\n",
    "\n",
    "\n",
    "df = pd.DataFrame(data=devs, index=['Median', 'Mean'])\n",
    "\n",
    "# disabeling statement has no effect for notebook functionality\n",
    "# pylint: disable=E0602\n",
    "display(df.drop(columns=['Assignment Relaxation', 'LP Relaxation', \"Cheapest Insertion\"]).T)"
   ]
  },
  {
   "cell_type": "markdown",
   "id": "5e09143e-8f93-43d2-bc3a-b56c526ef6be",
   "metadata": {},
   "source": [
    "### Visualization of optimal tour"
   ]
  },
  {
   "cell_type": "code",
   "execution_count": null,
   "id": "29baebce-f2ab-4627-866d-be51bfb02b16",
   "metadata": {},
   "outputs": [],
   "source": [
    "%%capture\n",
    "instance = instances1[300]\n",
    "\n",
    "coordinates = np.array(instance['node_coordinates'])\n",
    "\n",
    "visualise_tour(\n",
    "    coordinates,\n",
    "    './images/equidistributed_instance_optimal_tour',\n",
    "    instance['tour'],\n",
    "    title='TSP Instance Optimal Tour'\n",
    "    )"
   ]
  },
  {
   "cell_type": "markdown",
   "id": "254f35b7-b318-4add-ad6f-6f67494e10b4",
   "metadata": {},
   "source": [
    "### Heuristics and optimal tour in relation to size (|V|) of a graph"
   ]
  },
  {
   "cell_type": "code",
   "execution_count": 7,
   "id": "12e9a07a-72a6-4ce2-9c2b-2d589568083e",
   "metadata": {},
   "outputs": [],
   "source": [
    "# delete illegal heuristics\n",
    "del heuristics1['assrel']\n",
    "del heuristics1['lplb']\n",
    "del heuristics1['ci']"
   ]
  },
  {
   "cell_type": "code",
   "execution_count": 8,
   "id": "bf52cd99-2ef3-49e5-9a55-0098844541a1",
   "metadata": {},
   "outputs": [],
   "source": [
    "%%capture\n",
    "V = [len(x['node_coordinates']) for x in instances1]\n",
    "\n",
    "visualise_heuristics(heuristics1, V, './images/equidistributed_tourlength_graphsize')"
   ]
  },
  {
   "cell_type": "markdown",
   "id": "297eb747-2774-4473-858b-dda5eb618c83",
   "metadata": {},
   "source": [
    "### Regression models to predict value of optimal tour when supplying heuristics"
   ]
  },
  {
   "cell_type": "code",
   "execution_count": 9,
   "id": "9c95f73a-37f1-497d-b35f-d307343bc57c",
   "metadata": {},
   "outputs": [],
   "source": [
    "# moving into DataFrame structure\n",
    "df_heuristics1 = pd.DataFrame(heuristics1)\n",
    "\n",
    "# splitting data\n",
    "X = df_heuristics1.drop(columns=['opt'])\n",
    "y = df_heuristics1['opt']"
   ]
  },
  {
   "cell_type": "code",
   "execution_count": 10,
   "id": "5a5a32a3-4bc6-44b7-865d-12970a8dc53b",
   "metadata": {},
   "outputs": [],
   "source": [
    "# Configuring regression models\n",
    "models = {\n",
    "    'Multiple Linear Regression': [LinearRegression(), rg.get_instances()],\n",
    "    'Neural Network Regression': [\n",
    "        MLPRegressor(hidden_layer_sizes=256,random_state=101),\n",
    "        rg.get_instances(partition_of_data_set=1/2, number_of_sets=100)\n",
    "    ],\n",
    "    'Decision Tree Regression': [DecisionTreeRegressor(), rg.get_instances()],\n",
    "    'Support Vector Machine Regression': [SVR(kernel='poly'), rg.get_instances()]\n",
    "}"
   ]
  },
  {
   "cell_type": "code",
   "execution_count": 11,
   "id": "0bb6ec6b-9a51-46ff-b8b6-7ec2d34fae1f",
   "metadata": {},
   "outputs": [],
   "source": [
    "# we keep collecting all r_2\n",
    "r_2 = {\n",
    "    'Multiple Linear Regression': [],\n",
    "    'Neural Network Regression': [],\n",
    "    'Decision Tree Regression': [],\n",
    "    'Support Vector Machine Regression': []\n",
    "}"
   ]
  },
  {
   "cell_type": "code",
   "execution_count": 12,
   "id": "073322d4-0ac9-4c3e-9c2d-b8e3d1210853",
   "metadata": {},
   "outputs": [],
   "source": [
    "%%capture\n",
    "for name, config in models.items():\n",
    "    model = config[0]\n",
    "    train_set_size, results, errors = config[1]\n",
    "\n",
    "    predictions, y_verify, results, errors = rg.train_models(\n",
    "        X, y,\n",
    "        model,\n",
    "        train_set_size,\n",
    "        results,\n",
    "        errors\n",
    "    )\n",
    "\n",
    "    # at the moment we cannot use the abs error\n",
    "    del errors['mean_absolute_error']\n",
    "\n",
    "    visualise_regression(\n",
    "        predictions,\n",
    "        y_verify,\n",
    "        results,\n",
    "        errors,\n",
    "        train_set_size,\n",
    "        name,\n",
    "        f\"./images/equidistributed_regression_{name.strip()}\"\n",
    "    )\n",
    "\n",
    "    r_2[name].append(r2_score(y_verify, predictions))"
   ]
  },
  {
   "cell_type": "markdown",
   "id": "fcbfb117-ae29-4ad8-af97-0eac1c89bb5b",
   "metadata": {},
   "source": [
    "### Performance evaluation of own heuristic algorithm implementations"
   ]
  },
  {
   "cell_type": "code",
   "execution_count": 13,
   "id": "bdf117d8-adf9-4a09-9509-922c808139d8",
   "metadata": {},
   "outputs": [],
   "source": [
    "%%capture\n",
    "dev_own = {}\n",
    "heuristics1_own = fo.get_all_heuristics(PATH_TSP1_HEU_OWN)\n",
    "for key, value in heuristics1.items():\n",
    "    if key != 'opt':\n",
    "        np_h1 = np.array(value)\n",
    "        np_h1_own = np.array(heuristics1_own[key])\n",
    "        diff = ((np_h1_own - np_h1) / np.array(heuristics1_own['opt']))*100\n",
    "        dev_own[key] = diff\n",
    "\n",
    "visualise_heuristics_distribution(dev_own, './images/own_algorithm_deviation_distribution')"
   ]
  },
  {
   "cell_type": "markdown",
   "id": "8da04ccb-6236-4a8a-a814-4a64337fcc2b",
   "metadata": {},
   "source": [
    "#### Self implemented heuristics in relation to size |V| of the graphs"
   ]
  },
  {
   "cell_type": "code",
   "execution_count": 14,
   "id": "32930cb8-874c-4359-bb00-6a3177069ab6",
   "metadata": {},
   "outputs": [],
   "source": [
    "%%capture\n",
    "V = [len(x['node_coordinates']) for x in instances1]\n",
    "\n",
    "visualise_heuristics(heuristics1_own, V, './images/own_algorithm_tourlength_graphsize')"
   ]
  },
  {
   "cell_type": "markdown",
   "id": "b488e5d3-c630-41b5-90af-b0b482db0d7b",
   "metadata": {},
   "source": [
    "#### Regression with self implemented heuristics"
   ]
  },
  {
   "cell_type": "code",
   "execution_count": 15,
   "id": "ada7714d-45fe-4cad-af8f-b7391c556ca6",
   "metadata": {},
   "outputs": [],
   "source": [
    "# moving into DataFrame structure\n",
    "df_heuristics1 = pd.DataFrame(heuristics1_own)\n",
    "\n",
    "# splitting data\n",
    "X = df_heuristics1.drop(columns=['opt'])\n",
    "y = df_heuristics1['opt']"
   ]
  },
  {
   "cell_type": "code",
   "execution_count": 16,
   "id": "83695065-6bed-404a-8a79-ad778f0c1627",
   "metadata": {},
   "outputs": [],
   "source": [
    "# Configuring regression models\n",
    "models = {\n",
    "    'Multiple Linear Regression': [LinearRegression(), rg.get_instances()],\n",
    "    'Neural Network Regression': [\n",
    "        MLPRegressor(hidden_layer_sizes=256,random_state=101),\n",
    "        rg.get_instances(partition_of_data_set=1/2, number_of_sets=100)\n",
    "    ],\n",
    "    'Decision Tree Regression': [DecisionTreeRegressor(), rg.get_instances()],\n",
    "    'Support Vector Machine Regression': [SVR(kernel='poly'), rg.get_instances()]\n",
    "}"
   ]
  },
  {
   "cell_type": "code",
   "execution_count": 17,
   "id": "ac56d8fb-c491-47cd-ae07-221e521c0d22",
   "metadata": {},
   "outputs": [],
   "source": [
    "%%capture\n",
    "for name, config in models.items():\n",
    "    model = config[0]\n",
    "    train_set_size, results, errors = config[1]\n",
    "\n",
    "    predictions, y_verify, results, errors = rg.train_models(\n",
    "        X, y,\n",
    "        model,\n",
    "        train_set_size,\n",
    "        results,\n",
    "        errors\n",
    "    )\n",
    "\n",
    "    # at the moment we cannot use the abs error\n",
    "    del errors['mean_absolute_error']\n",
    "\n",
    "    visualise_regression(\n",
    "        predictions,\n",
    "        y_verify,\n",
    "        results,\n",
    "        errors,\n",
    "        train_set_size,\n",
    "        name,\n",
    "        f\"./images/own_algorithm_regression_{name.strip()}\"\n",
    "    )\n",
    "\n",
    "    r_2[name].append(r2_score(y_verify, predictions))"
   ]
  },
  {
   "cell_type": "markdown",
   "id": "349918b7-bf19-47f0-912f-fbac0f15133b",
   "metadata": {},
   "source": [
    "## TSP Dataset with single cluster graphs"
   ]
  },
  {
   "cell_type": "code",
   "execution_count": 18,
   "id": "a8d6d12c-55d8-4512-9768-8a287e82bd29",
   "metadata": {},
   "outputs": [],
   "source": [
    "# Get secon dataset\n",
    "heuristics3 = fo.get_all_heuristics(PATH_TSP3_HEU)\n",
    "instances3 = fo.get_all_instances(PATH_TSP3)"
   ]
  },
  {
   "cell_type": "markdown",
   "id": "5fc0bcb5-3f84-44f6-8e39-810010fb4855",
   "metadata": {},
   "source": [
    "### Relative deviation of heuristics and lower bounds of optimal tour"
   ]
  },
  {
   "cell_type": "code",
   "execution_count": null,
   "id": "326d2161-8e8e-4d8d-a4ca-cb7aec1c2116",
   "metadata": {},
   "outputs": [],
   "source": [
    "%%capture\n",
    "perc_dev_from_opt = {}\n",
    "for key, value in heuristics3.items():\n",
    "    if key == 'opt':\n",
    "        continue\n",
    "    distance = heuristics3['opt'] - value\n",
    "    rel_distance = distance / heuristics3['opt']\n",
    "    perc_dev_from_opt[key] = 1 - rel_distance\n",
    "\n",
    "visualise_heuristics_distribution(\n",
    "    perc_dev_from_opt, \n",
    "    './images/single_cluster_heuristics_distribution'\n",
    "    )"
   ]
  },
  {
   "cell_type": "markdown",
   "id": "6c1a502c-7573-44bb-92ad-69459cf8a358",
   "metadata": {},
   "source": [
    "### Mean deviations from optimal tour"
   ]
  },
  {
   "cell_type": "code",
   "execution_count": 20,
   "id": "79be1807-b62a-4893-b45e-7c9c49e1c8f1",
   "metadata": {},
   "outputs": [
    {
     "data": {
      "text/html": [
       "<div>\n",
       "<style scoped>\n",
       "    .dataframe tbody tr th:only-of-type {\n",
       "        vertical-align: middle;\n",
       "    }\n",
       "\n",
       "    .dataframe tbody tr th {\n",
       "        vertical-align: top;\n",
       "    }\n",
       "\n",
       "    .dataframe thead th {\n",
       "        text-align: right;\n",
       "    }\n",
       "</style>\n",
       "<table border=\"1\" class=\"dataframe\">\n",
       "  <thead>\n",
       "    <tr style=\"text-align: right;\">\n",
       "      <th></th>\n",
       "      <th>Median</th>\n",
       "      <th>Mean</th>\n",
       "    </tr>\n",
       "  </thead>\n",
       "  <tbody>\n",
       "    <tr>\n",
       "      <th>Nearest Insertion</th>\n",
       "      <td>1.242698</td>\n",
       "      <td>1.242368</td>\n",
       "    </tr>\n",
       "    <tr>\n",
       "      <th>Random Insertion</th>\n",
       "      <td>1.112861</td>\n",
       "      <td>1.113247</td>\n",
       "    </tr>\n",
       "    <tr>\n",
       "      <th>Nearest Neighbor</th>\n",
       "      <td>1.251149</td>\n",
       "      <td>1.252406</td>\n",
       "    </tr>\n",
       "    <tr>\n",
       "      <th>Minimum Spanning Tree Heuristic</th>\n",
       "      <td>1.393818</td>\n",
       "      <td>1.392549</td>\n",
       "    </tr>\n",
       "    <tr>\n",
       "      <th>1 Tree</th>\n",
       "      <td>0.876593</td>\n",
       "      <td>0.876003</td>\n",
       "    </tr>\n",
       "    <tr>\n",
       "      <th>Minimum Spanning Tree</th>\n",
       "      <td>0.875955</td>\n",
       "      <td>0.875314</td>\n",
       "    </tr>\n",
       "    <tr>\n",
       "      <th>Farthest Insertion</th>\n",
       "      <td>1.209579</td>\n",
       "      <td>1.208780</td>\n",
       "    </tr>\n",
       "    <tr>\n",
       "      <th>Greedy Heuristic</th>\n",
       "      <td>1.251149</td>\n",
       "      <td>1.252406</td>\n",
       "    </tr>\n",
       "    <tr>\n",
       "      <th>Christofides Heuristik</th>\n",
       "      <td>1.159143</td>\n",
       "      <td>1.160816</td>\n",
       "    </tr>\n",
       "  </tbody>\n",
       "</table>\n",
       "</div>"
      ],
      "text/plain": [
       "                                   Median      Mean\n",
       "Nearest Insertion                1.242698  1.242368\n",
       "Random Insertion                 1.112861  1.113247\n",
       "Nearest Neighbor                 1.251149  1.252406\n",
       "Minimum Spanning Tree Heuristic  1.393818  1.392549\n",
       "1 Tree                           0.876593  0.876003\n",
       "Minimum Spanning Tree            0.875955  0.875314\n",
       "Farthest Insertion               1.209579  1.208780\n",
       "Greedy Heuristic                 1.251149  1.252406\n",
       "Christofides Heuristik           1.159143  1.160816"
      ]
     },
     "metadata": {},
     "output_type": "display_data"
    }
   ],
   "source": [
    "devs = {}\n",
    "for key, value in perc_dev_from_opt.items():\n",
    "    display_name = heuristic_names[key]\n",
    "    devs[display_name] = []\n",
    "    devs[display_name].append(np.median(value))\n",
    "    devs[display_name].append(np.mean(value))\n",
    "\n",
    "\n",
    "df = pd.DataFrame(data=devs, index=['Median', 'Mean'])\n",
    "display(df.T)"
   ]
  },
  {
   "cell_type": "markdown",
   "id": "d2f6e1b7-21a7-496e-966e-2a8fde3f7a40",
   "metadata": {},
   "source": [
    "### Visualization of an optimal tour"
   ]
  },
  {
   "cell_type": "code",
   "execution_count": null,
   "id": "6bf92464-98c8-4b1f-aca9-5bd490857d81",
   "metadata": {},
   "outputs": [],
   "source": [
    "%%capture\n",
    "instance = instances3[35]\n",
    "coordinates = np.array(instance['node_coordinates'])\n",
    "tour = np.array(instance['tour'])\n",
    "visualise_tour(\n",
    "    coordinates, \n",
    "    './images/single_cluster_instance_optimal_tour',\n",
    "    tour,\n",
    "    title='Example Clustered TSP Tour'\n",
    "    )"
   ]
  },
  {
   "cell_type": "markdown",
   "id": "afeba4aa-c0f0-40d1-85a7-1f9cbbcd6fa7",
   "metadata": {},
   "source": [
    "### heuristics and optimal tour in relation to the size (|V|) of the graphs"
   ]
  },
  {
   "cell_type": "code",
   "execution_count": null,
   "id": "8e8325a2-53d8-45bd-9440-e32c9ae9cdf3",
   "metadata": {},
   "outputs": [],
   "source": [
    "%%capture\n",
    "V = [len(x['node_coordinates']) for x in instances3]\n",
    "\n",
    "visualise_heuristics(\n",
    "    heuristics3,\n",
    "    V,\n",
    "    './images/single_cluster_tourlength_graphsize'\n",
    "    )"
   ]
  },
  {
   "cell_type": "markdown",
   "id": "83e0b806-7db7-44e2-9267-d0c2f3af5e43",
   "metadata": {},
   "source": [
    "### Regressionsmodelle zur Vorhersage des optimalen Werts unter Eingabe der Heuristiken"
   ]
  },
  {
   "cell_type": "code",
   "execution_count": 23,
   "id": "abcb8b0a-1151-484a-ac1b-e3a59d059e2a",
   "metadata": {},
   "outputs": [],
   "source": [
    "# moving into DataFrame structure\n",
    "df_heuristics3 = pd.DataFrame(heuristics3)\n",
    "\n",
    "# splitting data\n",
    "X = df_heuristics3.drop(columns=['opt'])\n",
    "y = df_heuristics3['opt']"
   ]
  },
  {
   "cell_type": "code",
   "execution_count": 24,
   "id": "9ee89f6f-ccf0-4f1d-9f09-1dcd156988e9",
   "metadata": {},
   "outputs": [],
   "source": [
    "# Configuring regression models\n",
    "models = {\n",
    "    'Multiple Linear Regression': [LinearRegression(), rg.get_instances(\n",
    "        len_dataset=1000,\n",
    "        partition_of_data_set=0.4\n",
    "    )],\n",
    "    'Neural Network Regression': [\n",
    "        MLPRegressor(hidden_layer_sizes=256,random_state=100),\n",
    "        rg.get_instances(len_dataset=1000, partition_of_data_set=1/2, number_of_sets=100)\n",
    "    ],\n",
    "    'Decision Tree Regression': [DecisionTreeRegressor(), rg.get_instances(\n",
    "        len_dataset=1000,\n",
    "        partition_of_data_set=0.4)\n",
    "    ],\n",
    "    'Support Vector Machine Regression': [SVR(kernel='poly'), rg.get_instances(\n",
    "        len_dataset=1000,\n",
    "        partition_of_data_set=0.4)\n",
    "    ]\n",
    "}"
   ]
  },
  {
   "cell_type": "code",
   "execution_count": 25,
   "id": "259f0121-71b0-4ad4-b401-9931045b7a6c",
   "metadata": {},
   "outputs": [],
   "source": [
    "%%capture\n",
    "for name, config in models.items():\n",
    "    model = config[0]\n",
    "    train_set_size, results, errors = config[1]\n",
    "\n",
    "    predictions, y_verify, results, errors = rg.train_models(\n",
    "        X, y,\n",
    "        model,\n",
    "        train_set_size,\n",
    "        results,\n",
    "        errors\n",
    "    )\n",
    "\n",
    "    # atthe moment we cannot use the abs error\n",
    "    del errors['mean_absolute_error']\n",
    "\n",
    "    visualise_regression(\n",
    "        predictions,\n",
    "        y_verify,\n",
    "        results,\n",
    "        errors,\n",
    "        train_set_size,\n",
    "        name,\n",
    "        f\"./images/single_cluster_regression_{name.strip()}\"\n",
    "    )\n",
    "\n",
    "    r_2[name].append(r2_score(y_verify, predictions))"
   ]
  },
  {
   "cell_type": "markdown",
   "id": "818b9cf7-6ea0-48fa-9406-36b31a7e77dc",
   "metadata": {},
   "source": [
    "## Dataset with graphs containing random number of clusters "
   ]
  },
  {
   "cell_type": "code",
   "execution_count": 26,
   "id": "776de62a-6041-4711-a7db-737fc62dbf5a",
   "metadata": {},
   "outputs": [],
   "source": [
    "# Get secon dataset\n",
    "heuristics2 = fo.get_all_heuristics(PATH_TSP2_HEU)\n",
    "instances2 = fo.get_all_instances(PATH_TSP2)"
   ]
  },
  {
   "cell_type": "markdown",
   "id": "a0375de3-3426-48c8-a886-add1caaad99e",
   "metadata": {},
   "source": [
    "### Relative deviation of heuristics and lower bounds from optimal tour\n",
    "Values < 1 imply lower bounds. Values > 1 imply tour approximation heuristic."
   ]
  },
  {
   "cell_type": "code",
   "execution_count": null,
   "id": "b6a330b1-5ad2-47f4-9513-33902bb983d1",
   "metadata": {},
   "outputs": [],
   "source": [
    "%%capture\n",
    "perc_dev_from_opt = {}\n",
    "for key, value in heuristics2.items():\n",
    "    if key == 'opt':\n",
    "        continue\n",
    "    distance = heuristics2['opt'] - value\n",
    "    rel_distance = distance / heuristics2['opt']\n",
    "    perc_dev_from_opt[key] = 1 - rel_distance\n",
    "\n",
    "visualise_heuristics_distribution(\n",
    "    perc_dev_from_opt,\n",
    "    './images/multi_cluster_heuristics_distribution'\n",
    "    )"
   ]
  },
  {
   "cell_type": "markdown",
   "id": "01486b46-d166-4995-aff8-1494a7fe7958",
   "metadata": {},
   "source": [
    "### Mean deviation from optimal tour"
   ]
  },
  {
   "cell_type": "code",
   "execution_count": 28,
   "id": "bddd10bc-1f06-4b24-a711-e49072e06bd1",
   "metadata": {},
   "outputs": [
    {
     "data": {
      "text/html": [
       "<div>\n",
       "<style scoped>\n",
       "    .dataframe tbody tr th:only-of-type {\n",
       "        vertical-align: middle;\n",
       "    }\n",
       "\n",
       "    .dataframe tbody tr th {\n",
       "        vertical-align: top;\n",
       "    }\n",
       "\n",
       "    .dataframe thead th {\n",
       "        text-align: right;\n",
       "    }\n",
       "</style>\n",
       "<table border=\"1\" class=\"dataframe\">\n",
       "  <thead>\n",
       "    <tr style=\"text-align: right;\">\n",
       "      <th></th>\n",
       "      <th>Median</th>\n",
       "      <th>Mean</th>\n",
       "    </tr>\n",
       "  </thead>\n",
       "  <tbody>\n",
       "    <tr>\n",
       "      <th>Nearest Insertion</th>\n",
       "      <td>1.218762</td>\n",
       "      <td>1.218757</td>\n",
       "    </tr>\n",
       "    <tr>\n",
       "      <th>Random Insertion</th>\n",
       "      <td>1.104015</td>\n",
       "      <td>1.104288</td>\n",
       "    </tr>\n",
       "    <tr>\n",
       "      <th>Nearest Neighbor</th>\n",
       "      <td>1.271214</td>\n",
       "      <td>1.273434</td>\n",
       "    </tr>\n",
       "    <tr>\n",
       "      <th>Minimum Spanning Tree Heuristic</th>\n",
       "      <td>1.353916</td>\n",
       "      <td>1.353266</td>\n",
       "    </tr>\n",
       "    <tr>\n",
       "      <th>1 Tree</th>\n",
       "      <td>0.833908</td>\n",
       "      <td>0.833093</td>\n",
       "    </tr>\n",
       "    <tr>\n",
       "      <th>Minimum Spanning Tree</th>\n",
       "      <td>0.833352</td>\n",
       "      <td>0.832527</td>\n",
       "    </tr>\n",
       "    <tr>\n",
       "      <th>Farthest Insertion</th>\n",
       "      <td>1.183940</td>\n",
       "      <td>1.183452</td>\n",
       "    </tr>\n",
       "    <tr>\n",
       "      <th>Greedy Heuristic</th>\n",
       "      <td>1.271214</td>\n",
       "      <td>1.273457</td>\n",
       "    </tr>\n",
       "    <tr>\n",
       "      <th>Christofides Heuristik</th>\n",
       "      <td>1.163990</td>\n",
       "      <td>1.166064</td>\n",
       "    </tr>\n",
       "  </tbody>\n",
       "</table>\n",
       "</div>"
      ],
      "text/plain": [
       "                                   Median      Mean\n",
       "Nearest Insertion                1.218762  1.218757\n",
       "Random Insertion                 1.104015  1.104288\n",
       "Nearest Neighbor                 1.271214  1.273434\n",
       "Minimum Spanning Tree Heuristic  1.353916  1.353266\n",
       "1 Tree                           0.833908  0.833093\n",
       "Minimum Spanning Tree            0.833352  0.832527\n",
       "Farthest Insertion               1.183940  1.183452\n",
       "Greedy Heuristic                 1.271214  1.273457\n",
       "Christofides Heuristik           1.163990  1.166064"
      ]
     },
     "metadata": {},
     "output_type": "display_data"
    }
   ],
   "source": [
    "devs = {}\n",
    "for key, value in perc_dev_from_opt.items():\n",
    "    display_name = heuristic_names[key]\n",
    "    devs[display_name] = []\n",
    "    devs[display_name].append(np.median(value))\n",
    "    devs[display_name].append(np.mean(value))\n",
    "\n",
    "\n",
    "df = pd.DataFrame(data=devs, index=['Median', 'Mean'])\n",
    "display(df.T)"
   ]
  },
  {
   "cell_type": "markdown",
   "id": "2138dcab-9cb1-42ab-b4d7-d5df7fdfd926",
   "metadata": {},
   "source": [
    "### Visualization of an optimal tour in the data set"
   ]
  },
  {
   "cell_type": "code",
   "execution_count": null,
   "id": "9f9fbea7-04e6-4280-ac91-6dbade094ba8",
   "metadata": {},
   "outputs": [],
   "source": [
    "%%capture\n",
    "instance = instances2[22]\n",
    "coordinates = np.array(instance['node_coordinates'])\n",
    "tour = np.array(instance['tour'])\n",
    "visualise_tour(\n",
    "    coordinates,\n",
    "    './images/multi_cluster_instance_optimal_tour',\n",
    "    tour, title='Example Clustered TSP Tour'\n",
    "    )"
   ]
  },
  {
   "cell_type": "markdown",
   "id": "8a636230-684e-4a05-b849-e0a4cc2000bb",
   "metadata": {},
   "source": [
    "### heuristics and optimal tour in relation to the size (|V|) of the graphs"
   ]
  },
  {
   "cell_type": "code",
   "execution_count": 30,
   "id": "d426ba1f-274c-4035-9471-b670f206a967",
   "metadata": {},
   "outputs": [],
   "source": [
    "%%capture\n",
    "V = [len(x['node_coordinates']) for x in instances2]\n",
    "\n",
    "visualise_heuristics(heuristics2, V, './images/multi_cluster_tourlength_graphsize')"
   ]
  },
  {
   "cell_type": "markdown",
   "id": "7dff3b82-98ef-474b-ac23-6f04e92520b5",
   "metadata": {},
   "source": [
    "### Regression models to predict the value of the optimal tour after input of heuristics"
   ]
  },
  {
   "cell_type": "code",
   "execution_count": 31,
   "id": "aefa4267-1ecb-4419-bcdd-5d25e96cdd43",
   "metadata": {},
   "outputs": [],
   "source": [
    "# moving into DataFrame structure\n",
    "df_heuristics2 = pd.DataFrame(heuristics2)\n",
    "\n",
    "# splitting data\n",
    "X = df_heuristics2.drop(columns=['opt'])\n",
    "y = df_heuristics2['opt']"
   ]
  },
  {
   "cell_type": "code",
   "execution_count": 32,
   "id": "e718063d-a41d-42a9-b5b7-c75b403b15d1",
   "metadata": {},
   "outputs": [],
   "source": [
    "# Configuring regression models\n",
    "models = {\n",
    "    'Multiple Linear Regression': [LinearRegression(), rg.get_instances()],\n",
    "    'Neural Network Regression': [\n",
    "        MLPRegressor(hidden_layer_sizes=256,random_state=101),\n",
    "        rg.get_instances(partition_of_data_set=1/2, number_of_sets=100)\n",
    "    ],\n",
    "    'Decision Tree Regression': [DecisionTreeRegressor(), rg.get_instances()],\n",
    "    'Support Vector Machine Regression': [SVR(kernel='poly'), rg.get_instances()]\n",
    "}"
   ]
  },
  {
   "cell_type": "code",
   "execution_count": 33,
   "id": "f4ed7444-8754-4c82-b11b-bd9fb881c33c",
   "metadata": {},
   "outputs": [],
   "source": [
    "%%capture\n",
    "for name, config in models.items():\n",
    "    model = config[0]\n",
    "    train_set_size, results, errors = config[1]\n",
    "\n",
    "    predictions, y_verify, results, errors = rg.train_models(\n",
    "        X, y,\n",
    "        model,\n",
    "        train_set_size,\n",
    "        results,\n",
    "        errors\n",
    "    )\n",
    "\n",
    "    # eliminate outliers\n",
    "    y_verify = list(y_verify)\n",
    "    predictions = list(predictions)\n",
    "    for i,p in enumerate(predictions):\n",
    "        if p > 150000:\n",
    "            del predictions[i]\n",
    "            del y_verify[i]\n",
    "\n",
    "    # atthe moment we cannot use the abs error\n",
    "    del errors['mean_absolute_error']\n",
    "\n",
    "    visualise_regression(\n",
    "        predictions,\n",
    "        y_verify,\n",
    "        results,\n",
    "        errors,\n",
    "        train_set_size,\n",
    "        name,\n",
    "        f\"./images/multi_cluster_regression_{name.strip()}\"\n",
    "\n",
    "    )\n",
    "\n",
    "    r_2[name].append(r2_score(y_verify, predictions))"
   ]
  },
  {
   "cell_type": "markdown",
   "id": "77ea260d-82b9-4b2b-89d6-b3ef75b4083a",
   "metadata": {},
   "source": [
    "## Interpretation of the regression models"
   ]
  },
  {
   "cell_type": "code",
   "execution_count": 34,
   "id": "f73f9c79-f5d0-4a85-8f95-0a677894bc8b",
   "metadata": {},
   "outputs": [],
   "source": [
    "%%capture\n",
    "df_r_2 = pd.DataFrame(r_2, index=[\n",
    "    'Evenly Distributed',\n",
    "    'Evenly Distributed\\nOwn Heuristics',\n",
    "    'One Cluster',\n",
    "    'Random No. of Clusters'\n",
    "])\n",
    "visualise_r_2_heatmap(df_r_2, './images/interpretation_heatmap')"
   ]
  },
  {
   "cell_type": "code",
   "execution_count": null,
   "id": "8c77fcee",
   "metadata": {},
   "outputs": [],
   "source": []
  }
 ],
 "metadata": {
  "kernelspec": {
   "display_name": "thesis",
   "language": "python",
   "name": "thesis"
  },
  "language_info": {
   "codemirror_mode": {
    "name": "ipython",
    "version": 3
   },
   "file_extension": ".py",
   "mimetype": "text/x-python",
   "name": "python",
   "nbconvert_exporter": "python",
   "pygments_lexer": "ipython3",
   "version": "3.12.3"
  }
 },
 "nbformat": 4,
 "nbformat_minor": 5
}
